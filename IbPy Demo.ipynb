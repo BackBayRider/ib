{
 "cells": [
  {
   "cell_type": "markdown",
   "metadata": {},
   "source": [
    "# IbPy and Interactive Brokers Features Demonstration\n",
    "\n",
    "## Learning Outcomes\n",
    "At the end of this simple workshop, you will be able to \n",
    "1. Extract Account and Portfolio Information\n",
    "2. Placing Orders\n",
    "3. Request Market Data\n",
    "4. Obtain Historical Data\n",
    "5. Access Market Depth Information\n",
    "6. Download Real Time Bars\n",
    "7. Extract Executions Information, including commission report"
   ]
  },
  {
   "cell_type": "code",
   "execution_count": 1,
   "metadata": {
    "collapsed": true
   },
   "outputs": [],
   "source": [
    "import pandas as pd\n",
    "import numpy as np\n",
    "import time\n",
    "from datetime import datetime\n",
    "from IBWrapper import IBWrapper, contract\n",
    "from ib.ext.EClientSocket import EClientSocket\n",
    "from ib.ext.ScannerSubscription import ScannerSubscription"
   ]
  },
  {
   "cell_type": "markdown",
   "metadata": {},
   "source": [
    "In the example to follow, **`callback`** is our `IBWrapper` instantiated. We **receive** information via `callback`.\n",
    "\n",
    "\n",
    "In the example to follow, **`tws`** is our `EClientSocket` instantiated. We **request** information via `tws`"
   ]
  },
  {
   "cell_type": "code",
   "execution_count": 2,
   "metadata": {
    "collapsed": true
   },
   "outputs": [],
   "source": [
    "accountName = \"DI246990\"\n",
    "callback = IBWrapper()             # Instantiate IBWrapper. callback \n",
    "tws = EClientSocket(callback)      # Instantiate EClientSocket and return data to callback\n",
    "host = \"\"\n",
    "port = 4002\n",
    "clientId = 6"
   ]
  },
  {
   "cell_type": "code",
   "execution_count": 3,
   "metadata": {},
   "outputs": [
    {
     "name": "stdout",
     "output_type": "stream",
     "text": [
      "Server Version: 76\n",
      "TWS Time at connection:20180212 20:25:33 SGT\n",
      "[-1, 2104, 'Market data farm connection is OK:hfarm']\n",
      "[-1, 2104, 'Market data farm connection is OK:jfarm']\n",
      "[-1, 2104, 'Market data farm connection is OK:usfuture']\n",
      "[-1, 2104, 'Market data farm connection is OK:eufarm']\n",
      "[-1, 2104, 'Market data farm connection is OK:cashfarm']\n",
      "[-1, 2104, 'Market data farm connection is OK:usopt']\n",
      "[-1, 2104, 'Market data farm connection is OK:usfarm.us']\n",
      "[-1, 2104, 'Market data farm connection is OK:usfarm']\n",
      "[-1, 2106, 'HMDS data farm connection is OK:ilhmds']\n",
      "[-1, 2106, 'HMDS data farm connection is OK:euhmds']\n",
      "[-1, 2106, 'HMDS data farm connection is OK:fundfarm']\n",
      "[-1, 2106, 'HMDS data farm connection is OK:ushmds']\n"
     ]
    }
   ],
   "source": [
    "tws.eConnect(host, port, clientId) # Connect to TWS"
   ]
  },
  {
   "cell_type": "code",
   "execution_count": 4,
   "metadata": {},
   "outputs": [
    {
     "name": "stdout",
     "output_type": "stream",
     "text": [
      "[-1, 2108, 'Market data farm connection is inactive but should be available upon demand.usopt']\n",
      "[-1, 2108, 'Market data farm connection is inactive but should be available upon demand.usopt']\n",
      "[-1, 2104, 'Market data farm connection is OK:usopt']\n"
     ]
    }
   ],
   "source": [
    "create = contract()                # Instantiate contract class\n",
    "callback.initiate_variables()"
   ]
  },
  {
   "cell_type": "markdown",
   "metadata": {},
   "source": [
    "Note how the work flow goes. We send a request via the prefix **tws.** followed by the request for the specific type of data after the dot for the information we are interested in. \n",
    "\n",
    "For example, we would like to get an update on account time, which required us calling `reqAccountUpdates`. \n",
    "\n",
    "We request for info by calling **`tws.reqAccountUpdates`** and the data will be returned via our callback function. In this case **`callback.update_AccountTime`**"
   ]
  },
  {
   "cell_type": "markdown",
   "metadata": {},
   "source": [
    "*****"
   ]
  },
  {
   "cell_type": "markdown",
   "metadata": {},
   "source": [
    "# Account and Portfolio\n",
    "### Learning Outcomes\n",
    "For this section, you will learn how you can obtain the following information:\n",
    "1. Account Updates\n",
    "   * Account Value\n",
    "   * Portfolio\n",
    "   * Account Time\n",
    "2. Account Summary\n",
    "3. Positions"
   ]
  },
  {
   "cell_type": "markdown",
   "metadata": {},
   "source": [
    "### Summary of Account and Portfolio \n",
    "\n",
    "| Request Call | Functions Utilised | Data Stored in |\n",
    "| --- | --- | --- |\n",
    "| reqAccountUpdates | updateAccountValue | self.update_AccountValue |\n",
    "| | updatePortfolio | self.update_Portfolio |\n",
    "| | updateAccountTime | self.update_AccountTime |\n",
    "| reqAccountSummary | accountSummary | self.account_Summary |\n",
    "| reqPositions | position | self.update_Position |"
   ]
  },
  {
   "cell_type": "markdown",
   "metadata": {},
   "source": [
    "### Sending Account Updates Request\n",
    "`reqAccountUpdates`"
   ]
  },
  {
   "cell_type": "code",
   "execution_count": 5,
   "metadata": {
    "collapsed": true
   },
   "outputs": [],
   "source": [
    "tws.reqAccountUpdates(1, accountName)"
   ]
  },
  {
   "cell_type": "markdown",
   "metadata": {},
   "source": [
    "#### Obtaining Account Value\n",
    "`self.update_AccountValue`"
   ]
  },
  {
   "cell_type": "code",
   "execution_count": 9,
   "metadata": {
    "scrolled": true
   },
   "outputs": [
    {
     "data": {
      "text/html": [
       "<div>\n",
       "<style>\n",
       "    .dataframe thead tr:only-child th {\n",
       "        text-align: right;\n",
       "    }\n",
       "\n",
       "    .dataframe thead th {\n",
       "        text-align: left;\n",
       "    }\n",
       "\n",
       "    .dataframe tbody tr th {\n",
       "        vertical-align: top;\n",
       "    }\n",
       "</style>\n",
       "<table border=\"1\" class=\"dataframe\">\n",
       "  <thead>\n",
       "    <tr style=\"text-align: right;\">\n",
       "      <th></th>\n",
       "      <th>key</th>\n",
       "      <th>value</th>\n",
       "      <th>currency</th>\n",
       "      <th>accountName</th>\n",
       "    </tr>\n",
       "  </thead>\n",
       "  <tbody>\n",
       "    <tr>\n",
       "      <th>0</th>\n",
       "      <td>AccountCode</td>\n",
       "      <td>DI246990</td>\n",
       "      <td>None</td>\n",
       "      <td>DI246990</td>\n",
       "    </tr>\n",
       "    <tr>\n",
       "      <th>1</th>\n",
       "      <td>AccountOrGroup</td>\n",
       "      <td>DI246990</td>\n",
       "      <td>BASE</td>\n",
       "      <td>DI246990</td>\n",
       "    </tr>\n",
       "    <tr>\n",
       "      <th>2</th>\n",
       "      <td>AccountOrGroup</td>\n",
       "      <td>DI246990</td>\n",
       "      <td>EUR</td>\n",
       "      <td>DI246990</td>\n",
       "    </tr>\n",
       "    <tr>\n",
       "      <th>3</th>\n",
       "      <td>AccountOrGroup</td>\n",
       "      <td>DI246990</td>\n",
       "      <td>USD</td>\n",
       "      <td>DI246990</td>\n",
       "    </tr>\n",
       "    <tr>\n",
       "      <th>4</th>\n",
       "      <td>AccountReady</td>\n",
       "      <td>true</td>\n",
       "      <td>None</td>\n",
       "      <td>DI246990</td>\n",
       "    </tr>\n",
       "    <tr>\n",
       "      <th>5</th>\n",
       "      <td>AccountType</td>\n",
       "      <td>INDIVIDUAL</td>\n",
       "      <td>None</td>\n",
       "      <td>DI246990</td>\n",
       "    </tr>\n",
       "    <tr>\n",
       "      <th>6</th>\n",
       "      <td>AccruedCash</td>\n",
       "      <td>123</td>\n",
       "      <td>BASE</td>\n",
       "      <td>DI246990</td>\n",
       "    </tr>\n",
       "    <tr>\n",
       "      <th>7</th>\n",
       "      <td>AccruedCash</td>\n",
       "      <td>0</td>\n",
       "      <td>EUR</td>\n",
       "      <td>DI246990</td>\n",
       "    </tr>\n",
       "    <tr>\n",
       "      <th>8</th>\n",
       "      <td>AccruedCash</td>\n",
       "      <td>123</td>\n",
       "      <td>USD</td>\n",
       "      <td>DI246990</td>\n",
       "    </tr>\n",
       "    <tr>\n",
       "      <th>9</th>\n",
       "      <td>AccruedCash-C</td>\n",
       "      <td>0.00</td>\n",
       "      <td>USD</td>\n",
       "      <td>DI246990</td>\n",
       "    </tr>\n",
       "  </tbody>\n",
       "</table>\n",
       "</div>"
      ],
      "text/plain": [
       "              key       value currency accountName\n",
       "0     AccountCode    DI246990     None    DI246990\n",
       "1  AccountOrGroup    DI246990     BASE    DI246990\n",
       "2  AccountOrGroup    DI246990      EUR    DI246990\n",
       "3  AccountOrGroup    DI246990      USD    DI246990\n",
       "4    AccountReady        true     None    DI246990\n",
       "5     AccountType  INDIVIDUAL     None    DI246990\n",
       "6     AccruedCash         123     BASE    DI246990\n",
       "7     AccruedCash           0      EUR    DI246990\n",
       "8     AccruedCash         123      USD    DI246990\n",
       "9   AccruedCash-C        0.00      USD    DI246990"
      ]
     },
     "execution_count": 9,
     "metadata": {},
     "output_type": "execute_result"
    }
   ],
   "source": [
    "pd.DataFrame(callback.update_AccountValue, \n",
    "            columns = ['key', 'value', 'currency', 'accountName'])[:10]"
   ]
  },
  {
   "cell_type": "markdown",
   "metadata": {},
   "source": [
    "#### Obtaining Portfolio Value\n",
    "`self.update_Portfolio`"
   ]
  },
  {
   "cell_type": "code",
   "execution_count": 10,
   "metadata": {},
   "outputs": [
    {
     "data": {
      "text/html": [
       "<div>\n",
       "<style>\n",
       "    .dataframe thead tr:only-child th {\n",
       "        text-align: right;\n",
       "    }\n",
       "\n",
       "    .dataframe thead th {\n",
       "        text-align: left;\n",
       "    }\n",
       "\n",
       "    .dataframe tbody tr th {\n",
       "        vertical-align: top;\n",
       "    }\n",
       "</style>\n",
       "<table border=\"1\" class=\"dataframe\">\n",
       "  <thead>\n",
       "    <tr style=\"text-align: right;\">\n",
       "      <th></th>\n",
       "      <th>Contract ID</th>\n",
       "      <th>Currency</th>\n",
       "      <th>Expiry</th>\n",
       "      <th>Include Expired</th>\n",
       "      <th>Local Symbol</th>\n",
       "      <th>Multiplier</th>\n",
       "      <th>Primary Exchange</th>\n",
       "      <th>Right</th>\n",
       "      <th>Security Type</th>\n",
       "      <th>Strike</th>\n",
       "      <th>Symbol</th>\n",
       "      <th>Trading Class</th>\n",
       "      <th>Position</th>\n",
       "      <th>Market Price</th>\n",
       "      <th>Market Value</th>\n",
       "      <th>Average Cost</th>\n",
       "      <th>Unrealised PnL</th>\n",
       "      <th>Realised PnL</th>\n",
       "      <th>Account Name</th>\n",
       "    </tr>\n",
       "  </thead>\n",
       "  <tbody>\n",
       "    <tr>\n",
       "      <th>0</th>\n",
       "      <td>197397509</td>\n",
       "      <td>EUR</td>\n",
       "      <td>20180615</td>\n",
       "      <td>False</td>\n",
       "      <td>C DBK  JUN 18  1785 1</td>\n",
       "      <td>112.0439</td>\n",
       "      <td>DTB</td>\n",
       "      <td>C</td>\n",
       "      <td>OPT</td>\n",
       "      <td>17.85</td>\n",
       "      <td>DBK</td>\n",
       "      <td>DBK.1</td>\n",
       "      <td>2</td>\n",
       "      <td>0.072362</td>\n",
       "      <td>16.22</td>\n",
       "      <td>244.600000</td>\n",
       "      <td>-472.98</td>\n",
       "      <td>0.0</td>\n",
       "      <td>DI246990</td>\n",
       "    </tr>\n",
       "    <tr>\n",
       "      <th>1</th>\n",
       "      <td>197397584</td>\n",
       "      <td>EUR</td>\n",
       "      <td>20180615</td>\n",
       "      <td>False</td>\n",
       "      <td>P DBK  JUN 18  1785 1</td>\n",
       "      <td>112.0439</td>\n",
       "      <td>DTB</td>\n",
       "      <td>P</td>\n",
       "      <td>OPT</td>\n",
       "      <td>17.85</td>\n",
       "      <td>DBK</td>\n",
       "      <td>DBK.1</td>\n",
       "      <td>-2</td>\n",
       "      <td>4.989651</td>\n",
       "      <td>-1118.12</td>\n",
       "      <td>432.400000</td>\n",
       "      <td>-253.32</td>\n",
       "      <td>0.0</td>\n",
       "      <td>DI246990</td>\n",
       "    </tr>\n",
       "    <tr>\n",
       "      <th>2</th>\n",
       "      <td>258973438</td>\n",
       "      <td>USD</td>\n",
       "      <td>20180316</td>\n",
       "      <td>False</td>\n",
       "      <td>ESH8</td>\n",
       "      <td>50</td>\n",
       "      <td>GLOBEX</td>\n",
       "      <td>0</td>\n",
       "      <td>FUT</td>\n",
       "      <td>0.00</td>\n",
       "      <td>ES</td>\n",
       "      <td>ES</td>\n",
       "      <td>3</td>\n",
       "      <td>2649.655762</td>\n",
       "      <td>397448.36</td>\n",
       "      <td>131972.883333</td>\n",
       "      <td>1529.71</td>\n",
       "      <td>0.0</td>\n",
       "      <td>DI246990</td>\n",
       "    </tr>\n",
       "  </tbody>\n",
       "</table>\n",
       "</div>"
      ],
      "text/plain": [
       "   Contract ID Currency    Expiry  Include Expired           Local Symbol  \\\n",
       "0    197397509      EUR  20180615            False  C DBK  JUN 18  1785 1   \n",
       "1    197397584      EUR  20180615            False  P DBK  JUN 18  1785 1   \n",
       "2    258973438      USD  20180316            False                   ESH8   \n",
       "\n",
       "  Multiplier Primary Exchange Right Security Type  Strike Symbol  \\\n",
       "0   112.0439              DTB     C           OPT   17.85    DBK   \n",
       "1   112.0439              DTB     P           OPT   17.85    DBK   \n",
       "2         50           GLOBEX     0           FUT    0.00     ES   \n",
       "\n",
       "  Trading Class  Position  Market Price  Market Value   Average Cost  \\\n",
       "0         DBK.1         2      0.072362         16.22     244.600000   \n",
       "1         DBK.1        -2      4.989651      -1118.12     432.400000   \n",
       "2            ES         3   2649.655762     397448.36  131972.883333   \n",
       "\n",
       "   Unrealised PnL  Realised PnL Account Name  \n",
       "0         -472.98           0.0     DI246990  \n",
       "1         -253.32           0.0     DI246990  \n",
       "2         1529.71           0.0     DI246990  "
      ]
     },
     "execution_count": 10,
     "metadata": {},
     "output_type": "execute_result"
    }
   ],
   "source": [
    "pd.DataFrame(callback.update_Portfolio, \n",
    "             columns=['Contract ID','Currency',\n",
    "                      'Expiry','Include Expired',\n",
    "                      'Local Symbol','Multiplier',\n",
    "                      'Primary Exchange','Right',\n",
    "                      'Security Type','Strike',\n",
    "                      'Symbol','Trading Class',\n",
    "                      'Position','Market Price','Market Value',\n",
    "                      'Average Cost', 'Unrealised PnL', 'Realised PnL', \n",
    "                      'Account Name'])[:3]"
   ]
  },
  {
   "cell_type": "markdown",
   "metadata": {},
   "source": [
    "#### Obtaining Account Time\n",
    "`self.update_AccountTime`"
   ]
  },
  {
   "cell_type": "code",
   "execution_count": 11,
   "metadata": {},
   "outputs": [
    {
     "data": {
      "text/plain": [
       "'20:39'"
      ]
     },
     "execution_count": 11,
     "metadata": {},
     "output_type": "execute_result"
    },
    {
     "name": "stdout",
     "output_type": "stream",
     "text": [
      "[-1, 2108, 'Market data farm connection is inactive but should be available upon demand.usopt']\n",
      "[-1, 2108, 'Market data farm connection is inactive but should be available upon demand.usopt']\n",
      "[-1, 2104, 'Market data farm connection is OK:usopt']\n"
     ]
    }
   ],
   "source": [
    "callback.update_AccountTime"
   ]
  },
  {
   "cell_type": "markdown",
   "metadata": {},
   "source": [
    "***"
   ]
  },
  {
   "cell_type": "markdown",
   "metadata": {},
   "source": [
    "### Sending Account Summary Request\n",
    "`reqAccountSummary`\n",
    "\n",
    "This function call can only be made when connected to a Financial Advisor (FA) account. Another way to look at this is that if you have more than one account, use this function."
   ]
  },
  {
   "cell_type": "code",
   "execution_count": 12,
   "metadata": {
    "collapsed": true
   },
   "outputs": [],
   "source": [
    "tws.reqAccountSummary(2,\"All\",\"NetLiquidation\")"
   ]
  },
  {
   "cell_type": "markdown",
   "metadata": {},
   "source": [
    "#### Obtaining Account Summary\n",
    "`self.account_Summary`"
   ]
  },
  {
   "cell_type": "code",
   "execution_count": 13,
   "metadata": {
    "scrolled": true
   },
   "outputs": [
    {
     "data": {
      "text/html": [
       "<div>\n",
       "<style>\n",
       "    .dataframe thead tr:only-child th {\n",
       "        text-align: right;\n",
       "    }\n",
       "\n",
       "    .dataframe thead th {\n",
       "        text-align: left;\n",
       "    }\n",
       "\n",
       "    .dataframe tbody tr th {\n",
       "        vertical-align: top;\n",
       "    }\n",
       "</style>\n",
       "<table border=\"1\" class=\"dataframe\">\n",
       "  <thead>\n",
       "    <tr style=\"text-align: right;\">\n",
       "      <th></th>\n",
       "      <th>Request_ID</th>\n",
       "      <th>Account</th>\n",
       "      <th>Tag</th>\n",
       "      <th>Value</th>\n",
       "      <th>Curency</th>\n",
       "    </tr>\n",
       "  </thead>\n",
       "  <tbody>\n",
       "    <tr>\n",
       "      <th>0</th>\n",
       "      <td>2</td>\n",
       "      <td>DI246990</td>\n",
       "      <td>NetLiquidation</td>\n",
       "      <td>1139460.61</td>\n",
       "      <td>USD</td>\n",
       "    </tr>\n",
       "    <tr>\n",
       "      <th>1</th>\n",
       "      <td>2</td>\n",
       "      <td>DU274370</td>\n",
       "      <td>NetLiquidation</td>\n",
       "      <td>1536054.42</td>\n",
       "      <td>USD</td>\n",
       "    </tr>\n",
       "  </tbody>\n",
       "</table>\n",
       "</div>"
      ],
      "text/plain": [
       "   Request_ID   Account             Tag       Value Curency\n",
       "0           2  DI246990  NetLiquidation  1139460.61     USD\n",
       "1           2  DU274370  NetLiquidation  1536054.42     USD"
      ]
     },
     "execution_count": 13,
     "metadata": {},
     "output_type": "execute_result"
    },
    {
     "name": "stdout",
     "output_type": "stream",
     "text": [
      "[-1, 2108, 'Market data farm connection is inactive but should be available upon demand.usopt']\n",
      "[-1, 2108, 'Market data farm connection is inactive but should be available upon demand.usopt']\n"
     ]
    }
   ],
   "source": [
    "pd.DataFrame(callback.account_Summary, \n",
    "             columns = ['Request_ID','Account','Tag','Value','Curency'])[:2]"
   ]
  },
  {
   "cell_type": "markdown",
   "metadata": {},
   "source": [
    "***"
   ]
  },
  {
   "cell_type": "markdown",
   "metadata": {},
   "source": [
    "### Sending Position Request\n",
    "`reqPositions`\n",
    "\n",
    "This function call request all positions for all accounts. This is more suitable for Financial Advisor. In the following example, I used pandas selection criteria to disply a specific account position."
   ]
  },
  {
   "cell_type": "code",
   "execution_count": 14,
   "metadata": {
    "collapsed": true
   },
   "outputs": [],
   "source": [
    "tws.reqPositions()"
   ]
  },
  {
   "cell_type": "markdown",
   "metadata": {},
   "source": [
    "#### Obtaining Position\n",
    "`self.update_Position`"
   ]
  },
  {
   "cell_type": "code",
   "execution_count": 15,
   "metadata": {
    "scrolled": true
   },
   "outputs": [
    {
     "data": {
      "text/html": [
       "<div>\n",
       "<style>\n",
       "    .dataframe thead tr:only-child th {\n",
       "        text-align: right;\n",
       "    }\n",
       "\n",
       "    .dataframe thead th {\n",
       "        text-align: left;\n",
       "    }\n",
       "\n",
       "    .dataframe tbody tr th {\n",
       "        vertical-align: top;\n",
       "    }\n",
       "</style>\n",
       "<table border=\"1\" class=\"dataframe\">\n",
       "  <thead>\n",
       "    <tr style=\"text-align: right;\">\n",
       "      <th></th>\n",
       "      <th>Account</th>\n",
       "      <th>Contract ID</th>\n",
       "      <th>Currency</th>\n",
       "      <th>Exchange</th>\n",
       "      <th>Expiry</th>\n",
       "      <th>Include Expired</th>\n",
       "      <th>Local Symbol</th>\n",
       "      <th>Multiplier</th>\n",
       "      <th>Right</th>\n",
       "      <th>Security Type</th>\n",
       "      <th>Strike</th>\n",
       "      <th>Symbol</th>\n",
       "      <th>Trading Class</th>\n",
       "      <th>Position</th>\n",
       "      <th>Average Cost</th>\n",
       "    </tr>\n",
       "  </thead>\n",
       "  <tbody>\n",
       "    <tr>\n",
       "      <th>42</th>\n",
       "      <td>DI246990</td>\n",
       "      <td>9408</td>\n",
       "      <td>USD</td>\n",
       "      <td>NYSE</td>\n",
       "      <td>None</td>\n",
       "      <td>False</td>\n",
       "      <td>MCD</td>\n",
       "      <td>None</td>\n",
       "      <td>None</td>\n",
       "      <td>STK</td>\n",
       "      <td>0.00</td>\n",
       "      <td>MCD</td>\n",
       "      <td>MCD</td>\n",
       "      <td>-4</td>\n",
       "      <td>121.264725</td>\n",
       "    </tr>\n",
       "    <tr>\n",
       "      <th>43</th>\n",
       "      <td>DI246990</td>\n",
       "      <td>43645865</td>\n",
       "      <td>USD</td>\n",
       "      <td>NASDAQ</td>\n",
       "      <td>None</td>\n",
       "      <td>False</td>\n",
       "      <td>IBKR</td>\n",
       "      <td>None</td>\n",
       "      <td>None</td>\n",
       "      <td>STK</td>\n",
       "      <td>0.00</td>\n",
       "      <td>IBKR</td>\n",
       "      <td>NMS</td>\n",
       "      <td>7</td>\n",
       "      <td>38.837800</td>\n",
       "    </tr>\n",
       "    <tr>\n",
       "      <th>44</th>\n",
       "      <td>DI246990</td>\n",
       "      <td>258973438</td>\n",
       "      <td>USD</td>\n",
       "      <td>None</td>\n",
       "      <td>20180316</td>\n",
       "      <td>False</td>\n",
       "      <td>ESH8</td>\n",
       "      <td>50</td>\n",
       "      <td>None</td>\n",
       "      <td>FUT</td>\n",
       "      <td>0.00</td>\n",
       "      <td>ES</td>\n",
       "      <td>ES</td>\n",
       "      <td>3</td>\n",
       "      <td>131972.883333</td>\n",
       "    </tr>\n",
       "    <tr>\n",
       "      <th>45</th>\n",
       "      <td>DI246990</td>\n",
       "      <td>279396694</td>\n",
       "      <td>USD</td>\n",
       "      <td>None</td>\n",
       "      <td>20180921</td>\n",
       "      <td>False</td>\n",
       "      <td>ESU8</td>\n",
       "      <td>50</td>\n",
       "      <td>None</td>\n",
       "      <td>FUT</td>\n",
       "      <td>0.00</td>\n",
       "      <td>ES</td>\n",
       "      <td>ES</td>\n",
       "      <td>11</td>\n",
       "      <td>132972.504545</td>\n",
       "    </tr>\n",
       "    <tr>\n",
       "      <th>46</th>\n",
       "      <td>DI246990</td>\n",
       "      <td>197397509</td>\n",
       "      <td>EUR</td>\n",
       "      <td>None</td>\n",
       "      <td>20180615</td>\n",
       "      <td>False</td>\n",
       "      <td>C DBK  JUN 18  1785 1</td>\n",
       "      <td>112.0439</td>\n",
       "      <td>C</td>\n",
       "      <td>OPT</td>\n",
       "      <td>17.85</td>\n",
       "      <td>DBK</td>\n",
       "      <td>DBK.1</td>\n",
       "      <td>2</td>\n",
       "      <td>244.600000</td>\n",
       "    </tr>\n",
       "    <tr>\n",
       "      <th>47</th>\n",
       "      <td>DI246990</td>\n",
       "      <td>197397584</td>\n",
       "      <td>EUR</td>\n",
       "      <td>None</td>\n",
       "      <td>20180615</td>\n",
       "      <td>False</td>\n",
       "      <td>P DBK  JUN 18  1785 1</td>\n",
       "      <td>112.0439</td>\n",
       "      <td>P</td>\n",
       "      <td>OPT</td>\n",
       "      <td>17.85</td>\n",
       "      <td>DBK</td>\n",
       "      <td>DBK.1</td>\n",
       "      <td>-2</td>\n",
       "      <td>432.400000</td>\n",
       "    </tr>\n",
       "    <tr>\n",
       "      <th>48</th>\n",
       "      <td>DI246990</td>\n",
       "      <td>12087792</td>\n",
       "      <td>USD</td>\n",
       "      <td>None</td>\n",
       "      <td>None</td>\n",
       "      <td>False</td>\n",
       "      <td>EUR.USD</td>\n",
       "      <td>None</td>\n",
       "      <td>None</td>\n",
       "      <td>CASH</td>\n",
       "      <td>0.00</td>\n",
       "      <td>EUR</td>\n",
       "      <td>EUR.USD</td>\n",
       "      <td>150000</td>\n",
       "      <td>1.122282</td>\n",
       "    </tr>\n",
       "    <tr>\n",
       "      <th>49</th>\n",
       "      <td>DI246990</td>\n",
       "      <td>208813720</td>\n",
       "      <td>USD</td>\n",
       "      <td>NASDAQ</td>\n",
       "      <td>None</td>\n",
       "      <td>False</td>\n",
       "      <td>GOOG</td>\n",
       "      <td>None</td>\n",
       "      <td>None</td>\n",
       "      <td>STK</td>\n",
       "      <td>0.00</td>\n",
       "      <td>GOOG</td>\n",
       "      <td>NMS</td>\n",
       "      <td>250</td>\n",
       "      <td>965.364000</td>\n",
       "    </tr>\n",
       "  </tbody>\n",
       "</table>\n",
       "</div>"
      ],
      "text/plain": [
       "     Account  Contract ID Currency Exchange    Expiry  Include Expired  \\\n",
       "42  DI246990         9408      USD     NYSE      None            False   \n",
       "43  DI246990     43645865      USD   NASDAQ      None            False   \n",
       "44  DI246990    258973438      USD     None  20180316            False   \n",
       "45  DI246990    279396694      USD     None  20180921            False   \n",
       "46  DI246990    197397509      EUR     None  20180615            False   \n",
       "47  DI246990    197397584      EUR     None  20180615            False   \n",
       "48  DI246990     12087792      USD     None      None            False   \n",
       "49  DI246990    208813720      USD   NASDAQ      None            False   \n",
       "\n",
       "             Local Symbol Multiplier Right Security Type  Strike Symbol  \\\n",
       "42                    MCD       None  None           STK    0.00    MCD   \n",
       "43                   IBKR       None  None           STK    0.00   IBKR   \n",
       "44                   ESH8         50  None           FUT    0.00     ES   \n",
       "45                   ESU8         50  None           FUT    0.00     ES   \n",
       "46  C DBK  JUN 18  1785 1   112.0439     C           OPT   17.85    DBK   \n",
       "47  P DBK  JUN 18  1785 1   112.0439     P           OPT   17.85    DBK   \n",
       "48                EUR.USD       None  None          CASH    0.00    EUR   \n",
       "49                   GOOG       None  None           STK    0.00   GOOG   \n",
       "\n",
       "   Trading Class  Position   Average Cost  \n",
       "42           MCD        -4     121.264725  \n",
       "43           NMS         7      38.837800  \n",
       "44            ES         3  131972.883333  \n",
       "45            ES        11  132972.504545  \n",
       "46         DBK.1         2     244.600000  \n",
       "47         DBK.1        -2     432.400000  \n",
       "48       EUR.USD    150000       1.122282  \n",
       "49           NMS       250     965.364000  "
      ]
     },
     "execution_count": 15,
     "metadata": {},
     "output_type": "execute_result"
    }
   ],
   "source": [
    "dat = pd.DataFrame(callback.update_Position, \n",
    "                   columns=['Account','Contract ID','Currency','Exchange','Expiry',\n",
    "                            'Include Expired','Local Symbol','Multiplier','Right',\n",
    "                            'Security Type','Strike','Symbol','Trading Class',\n",
    "                            'Position','Average Cost'])\n",
    "dat[dat[\"Account\"] == accountName]"
   ]
  },
  {
   "cell_type": "markdown",
   "metadata": {},
   "source": [
    "*****"
   ]
  },
  {
   "cell_type": "markdown",
   "metadata": {},
   "source": [
    "# Orders\n",
    "### Learning Outcomes\n",
    "For this section, you will learn how you can obtain the following information:\n",
    "1. Open Order\n",
    "2. Next Valid ID\n",
    "3. Order Status"
   ]
  },
  {
   "cell_type": "markdown",
   "metadata": {},
   "source": [
    "### Summary of Orders\n",
    "\n",
    "| Request Call | Functions Utilised | Data Stored in |\n",
    "| --- | --- | --- |\n",
    "| reqIds | nextValidId | self.next_ValidId |\n",
    "| placeOrder | orderStatus | self.order_Status |\n",
    "| cancelOrder | | |\n",
    "| reqOpenOrders & reqAllOpenOrders | openOrder | self.open_Order |\n",
    "| | orderStatus | self.order_Status |\n",
    "| reqGlobalCancel | | |"
   ]
  },
  {
   "cell_type": "markdown",
   "metadata": {},
   "source": [
    "#### Demo - Stock Purchase\n",
    "* ** Request Next Valid Id**. `reqIds`\n",
    "* ** Using Create**. `create`"
   ]
  },
  {
   "cell_type": "code",
   "execution_count": 17,
   "metadata": {
    "collapsed": true
   },
   "outputs": [],
   "source": [
    "tws.reqIds(1)\n",
    "order_id = callback.next_ValidId + 1\n",
    "contract_info = create.create_contract(\"GOOG\", \"STK\", \"SMART\", \"USD\")\n",
    "order_info = create.create_order(accountName, \"MKT\", 150, \"BUY\")"
   ]
  },
  {
   "cell_type": "markdown",
   "metadata": {},
   "source": [
    "#### Placing an Order\n",
    "`placeOrder`"
   ]
  },
  {
   "cell_type": "code",
   "execution_count": 18,
   "metadata": {},
   "outputs": [],
   "source": [
    "tws.placeOrder(order_id, contract_info, order_info)"
   ]
  },
  {
   "cell_type": "markdown",
   "metadata": {},
   "source": [
    "#### Checking Order Status\n",
    "`self.order_Status`"
   ]
  },
  {
   "cell_type": "code",
   "execution_count": 19,
   "metadata": {},
   "outputs": [
    {
     "data": {
      "text/html": [
       "<div>\n",
       "<style>\n",
       "    .dataframe thead tr:only-child th {\n",
       "        text-align: right;\n",
       "    }\n",
       "\n",
       "    .dataframe thead th {\n",
       "        text-align: left;\n",
       "    }\n",
       "\n",
       "    .dataframe tbody tr th {\n",
       "        vertical-align: top;\n",
       "    }\n",
       "</style>\n",
       "<table border=\"1\" class=\"dataframe\">\n",
       "  <thead>\n",
       "    <tr style=\"text-align: right;\">\n",
       "      <th></th>\n",
       "      <th>orderId</th>\n",
       "      <th>status</th>\n",
       "      <th>filled</th>\n",
       "      <th>remaining</th>\n",
       "      <th>avgFillPrice</th>\n",
       "      <th>permId</th>\n",
       "      <th>parentId</th>\n",
       "      <th>lastFillPrice</th>\n",
       "      <th>clientId</th>\n",
       "      <th>whyHeld</th>\n",
       "    </tr>\n",
       "  </thead>\n",
       "  <tbody>\n",
       "    <tr>\n",
       "      <th>0</th>\n",
       "      <td>8</td>\n",
       "      <td>PreSubmitted</td>\n",
       "      <td>0</td>\n",
       "      <td>150</td>\n",
       "      <td>0.0</td>\n",
       "      <td>656507437</td>\n",
       "      <td>0</td>\n",
       "      <td>0.0</td>\n",
       "      <td>6</td>\n",
       "      <td>locate</td>\n",
       "    </tr>\n",
       "  </tbody>\n",
       "</table>\n",
       "</div>"
      ],
      "text/plain": [
       "   orderId        status  filled  remaining  avgFillPrice     permId  \\\n",
       "0        8  PreSubmitted       0        150           0.0  656507437   \n",
       "\n",
       "   parentId  lastFillPrice  clientId whyHeld  \n",
       "0         0            0.0         6  locate  "
      ]
     },
     "execution_count": 19,
     "metadata": {},
     "output_type": "execute_result"
    }
   ],
   "source": [
    "pd.DataFrame(callback.order_Status,\n",
    "             columns = ['orderId', 'status', 'filled', 'remaining', 'avgFillPrice',\n",
    "                        'permId', 'parentId', 'lastFillPrice', 'clientId', 'whyHeld'])"
   ]
  },
  {
   "cell_type": "markdown",
   "metadata": {},
   "source": [
    "#### Checking on Open Order\n",
    "`self.open_Order`"
   ]
  },
  {
   "cell_type": "code",
   "execution_count": 20,
   "metadata": {},
   "outputs": [
    {
     "data": {
      "text/plain": [
       "[(8,\n",
       "  <ib.ext.Contract.Contract at 0x10dec7550>,\n",
       "  <ib.ext.Order.Order at 0x10dec7668>,\n",
       "  <ib.ext.OrderState.OrderState at 0x10ded1940>)]"
      ]
     },
     "execution_count": 20,
     "metadata": {},
     "output_type": "execute_result"
    }
   ],
   "source": [
    "callback.open_Order[:1]"
   ]
  },
  {
   "cell_type": "markdown",
   "metadata": {},
   "source": [
    "#### Cancelling Open Order\n",
    "`cancelOrder`"
   ]
  },
  {
   "cell_type": "code",
   "execution_count": 21,
   "metadata": {},
   "outputs": [
    {
     "name": "stdout",
     "output_type": "stream",
     "text": [
      "[8, 202, 'Order Canceled - reason:']\n"
     ]
    }
   ],
   "source": [
    "tws.cancelOrder(order_id)"
   ]
  },
  {
   "cell_type": "markdown",
   "metadata": {},
   "source": [
    "#### Demo\n",
    "* ** Request Next Valid Id**. `reqIds`\n",
    "* ** Using Create**. `create`\n",
    "* ** Placing an Order to purchase Futures**. `placeOrder`"
   ]
  },
  {
   "cell_type": "code",
   "execution_count": 23,
   "metadata": {},
   "outputs": [
    {
     "name": "stdout",
     "output_type": "stream",
     "text": [
      "10\n",
      "[-1, 2104, 'Market data farm connection is OK:usopt']\n"
     ]
    }
   ],
   "source": [
    "tws.reqIds(1)\n",
    "order_id = callback.next_ValidId + 1\n",
    "contract_info = create.create_contract(symbol = \"ES\", secType = \"FUT\", \n",
    "                                       exchange = \"GLOBEX\", currency = \"USD\", \n",
    "                                       right = None, strike = None,\n",
    "                                       expiry = \"201803\", multiplier=None,\n",
    "                                       tradingClass=None)\n",
    "order_info = create.create_order(accountName, \"MKT\", 3, \"BUY\")\n",
    "tws.placeOrder(order_id, contract_info, order_info)\n",
    "print(order_id)"
   ]
  },
  {
   "cell_type": "markdown",
   "metadata": {},
   "source": [
    "#### Checking Order Status"
   ]
  },
  {
   "cell_type": "code",
   "execution_count": 24,
   "metadata": {
    "scrolled": true
   },
   "outputs": [
    {
     "data": {
      "text/html": [
       "<div>\n",
       "<style>\n",
       "    .dataframe thead tr:only-child th {\n",
       "        text-align: right;\n",
       "    }\n",
       "\n",
       "    .dataframe thead th {\n",
       "        text-align: left;\n",
       "    }\n",
       "\n",
       "    .dataframe tbody tr th {\n",
       "        vertical-align: top;\n",
       "    }\n",
       "</style>\n",
       "<table border=\"1\" class=\"dataframe\">\n",
       "  <thead>\n",
       "    <tr style=\"text-align: right;\">\n",
       "      <th></th>\n",
       "      <th>orderId</th>\n",
       "      <th>status</th>\n",
       "      <th>filled</th>\n",
       "      <th>remaining</th>\n",
       "      <th>avgFillPrice</th>\n",
       "      <th>permId</th>\n",
       "      <th>parentId</th>\n",
       "      <th>lastFillPrice</th>\n",
       "      <th>clientId</th>\n",
       "      <th>whyHeld</th>\n",
       "    </tr>\n",
       "  </thead>\n",
       "  <tbody>\n",
       "    <tr>\n",
       "      <th>0</th>\n",
       "      <td>8</td>\n",
       "      <td>PreSubmitted</td>\n",
       "      <td>0</td>\n",
       "      <td>150</td>\n",
       "      <td>0.0</td>\n",
       "      <td>656507437</td>\n",
       "      <td>0</td>\n",
       "      <td>0.0</td>\n",
       "      <td>6</td>\n",
       "      <td>locate</td>\n",
       "    </tr>\n",
       "    <tr>\n",
       "      <th>1</th>\n",
       "      <td>8</td>\n",
       "      <td>Cancelled</td>\n",
       "      <td>0</td>\n",
       "      <td>150</td>\n",
       "      <td>0.0</td>\n",
       "      <td>656507437</td>\n",
       "      <td>0</td>\n",
       "      <td>0.0</td>\n",
       "      <td>6</td>\n",
       "      <td>None</td>\n",
       "    </tr>\n",
       "    <tr>\n",
       "      <th>2</th>\n",
       "      <td>10</td>\n",
       "      <td>Filled</td>\n",
       "      <td>3</td>\n",
       "      <td>0</td>\n",
       "      <td>2648.5</td>\n",
       "      <td>656507438</td>\n",
       "      <td>0</td>\n",
       "      <td>2648.5</td>\n",
       "      <td>6</td>\n",
       "      <td>None</td>\n",
       "    </tr>\n",
       "    <tr>\n",
       "      <th>3</th>\n",
       "      <td>10</td>\n",
       "      <td>Filled</td>\n",
       "      <td>3</td>\n",
       "      <td>0</td>\n",
       "      <td>2648.5</td>\n",
       "      <td>656507438</td>\n",
       "      <td>0</td>\n",
       "      <td>2648.5</td>\n",
       "      <td>6</td>\n",
       "      <td>None</td>\n",
       "    </tr>\n",
       "    <tr>\n",
       "      <th>4</th>\n",
       "      <td>10</td>\n",
       "      <td>Filled</td>\n",
       "      <td>3</td>\n",
       "      <td>0</td>\n",
       "      <td>2648.5</td>\n",
       "      <td>656507438</td>\n",
       "      <td>0</td>\n",
       "      <td>2648.5</td>\n",
       "      <td>6</td>\n",
       "      <td>None</td>\n",
       "    </tr>\n",
       "  </tbody>\n",
       "</table>\n",
       "</div>"
      ],
      "text/plain": [
       "   orderId        status  filled  remaining  avgFillPrice     permId  \\\n",
       "0        8  PreSubmitted       0        150           0.0  656507437   \n",
       "1        8     Cancelled       0        150           0.0  656507437   \n",
       "2       10        Filled       3          0        2648.5  656507438   \n",
       "3       10        Filled       3          0        2648.5  656507438   \n",
       "4       10        Filled       3          0        2648.5  656507438   \n",
       "\n",
       "   parentId  lastFillPrice  clientId whyHeld  \n",
       "0         0            0.0         6  locate  \n",
       "1         0            0.0         6    None  \n",
       "2         0         2648.5         6    None  \n",
       "3         0         2648.5         6    None  \n",
       "4         0         2648.5         6    None  "
      ]
     },
     "execution_count": 24,
     "metadata": {},
     "output_type": "execute_result"
    }
   ],
   "source": [
    "pd.DataFrame(callback.order_Status,\n",
    "             columns = ['orderId', 'status', 'filled', 'remaining', 'avgFillPrice',\n",
    "                        'permId', 'parentId', 'lastFillPrice', 'clientId', 'whyHeld'])"
   ]
  },
  {
   "cell_type": "markdown",
   "metadata": {},
   "source": [
    "IB provided two more methods:\n",
    "* `reqOpenOrders()` to request any open orders that were placed from this API client.\n",
    "* `reqAllOpenOrders()` to request all open orders that were placed from all API clients linked to one TWS and also from the TWS.\n",
    "\n",
    "Each open order will be fed back through `openOrder()` and `orderStatus()` methods."
   ]
  },
  {
   "cell_type": "markdown",
   "metadata": {},
   "source": [
    "Finally, use `reqGlobalCancel()` to cancel all open orders globally."
   ]
  },
  {
   "cell_type": "markdown",
   "metadata": {},
   "source": [
    "*****"
   ]
  },
  {
   "cell_type": "markdown",
   "metadata": {
    "collapsed": true
   },
   "source": [
    "# Market Data\n",
    "### Learning Outcomes\n",
    "For this section, you will learn how you can obtain the following information:\n",
    "1. Request Market Data\n",
    "   * Tick Price\n",
    "   * Tick Size\n",
    "2. Cancel Market Data\n",
    "3. Calculate Implied Volatility\n",
    "4. Calculate Option Price"
   ]
  },
  {
   "cell_type": "markdown",
   "metadata": {},
   "source": [
    "### Summary of Market Data\n",
    "\n",
    "| Request Call | Functions Utilised | Data Stored in |\n",
    "| --- | --- | --- |\n",
    "| reqMktData | tickPrice  | self.tick_Price |\n",
    "|  | tickSize | self.tick_Size |\n",
    "|  | tickOptionComputation  | self.tick_OptionComputation |\n",
    "|  | tickGeneric | self.tick_Generic |\n",
    "|  | tickString | self.tick_String |\n",
    "|  | tickEFP  | self.tick_EFP |\n",
    "|  | tickSnapshotEnd | self.tickSnapshotEnd_flag |\n",
    "| cancelMktData | | |\n",
    "| calculateImpliedVolatility | tickOptionComputation  | self.tick_OptionComputation |\n",
    "| cancelcalculateImpliedVolatility | | |\n",
    "| calculateOptionPrice  | tickOptionComputation  | self.tick_OptionComputation |\n",
    "| cancelCalculateOptionPrice | | |\n",
    "| reqMktDataType | marketDataType | self.market_DataType |\n",
    "\n",
    "The method `reqMktDataType` allows you to toggle between receiving real-time or frozen market data."
   ]
  },
  {
   "cell_type": "markdown",
   "metadata": {},
   "source": [
    "#### Requesting Market Data\n",
    "`reqMktData`"
   ]
  },
  {
   "cell_type": "code",
   "execution_count": 25,
   "metadata": {},
   "outputs": [],
   "source": [
    "contract_info = create.create_contract('AUD', 'CASH', 'IDEALPRO', 'USD')\n",
    "tickedId = 1002\n",
    "tws.reqMktData(tickedId, contract_info, \"\", False)"
   ]
  },
  {
   "cell_type": "markdown",
   "metadata": {},
   "source": [
    "#### Receiving Tick Price\n",
    "`self.tick_Price`"
   ]
  },
  {
   "cell_type": "code",
   "execution_count": 27,
   "metadata": {},
   "outputs": [
    {
     "data": {
      "text/html": [
       "<div>\n",
       "<style>\n",
       "    .dataframe thead tr:only-child th {\n",
       "        text-align: right;\n",
       "    }\n",
       "\n",
       "    .dataframe thead th {\n",
       "        text-align: left;\n",
       "    }\n",
       "\n",
       "    .dataframe tbody tr th {\n",
       "        vertical-align: top;\n",
       "    }\n",
       "</style>\n",
       "<table border=\"1\" class=\"dataframe\">\n",
       "  <thead>\n",
       "    <tr style=\"text-align: right;\">\n",
       "      <th></th>\n",
       "      <th>tickerId</th>\n",
       "      <th>field</th>\n",
       "      <th>price</th>\n",
       "      <th>canAutoExecute</th>\n",
       "      <th>Type</th>\n",
       "    </tr>\n",
       "  </thead>\n",
       "  <tbody>\n",
       "    <tr>\n",
       "      <th>133</th>\n",
       "      <td>1002</td>\n",
       "      <td>1</td>\n",
       "      <td>0.78343</td>\n",
       "      <td>1</td>\n",
       "      <td>BID PRICE</td>\n",
       "    </tr>\n",
       "    <tr>\n",
       "      <th>134</th>\n",
       "      <td>1002</td>\n",
       "      <td>1</td>\n",
       "      <td>0.78342</td>\n",
       "      <td>1</td>\n",
       "      <td>BID PRICE</td>\n",
       "    </tr>\n",
       "    <tr>\n",
       "      <th>135</th>\n",
       "      <td>1002</td>\n",
       "      <td>1</td>\n",
       "      <td>0.78343</td>\n",
       "      <td>1</td>\n",
       "      <td>BID PRICE</td>\n",
       "    </tr>\n",
       "    <tr>\n",
       "      <th>136</th>\n",
       "      <td>1002</td>\n",
       "      <td>1</td>\n",
       "      <td>0.78342</td>\n",
       "      <td>1</td>\n",
       "      <td>BID PRICE</td>\n",
       "    </tr>\n",
       "    <tr>\n",
       "      <th>137</th>\n",
       "      <td>1002</td>\n",
       "      <td>1</td>\n",
       "      <td>0.78343</td>\n",
       "      <td>1</td>\n",
       "      <td>BID PRICE</td>\n",
       "    </tr>\n",
       "    <tr>\n",
       "      <th>138</th>\n",
       "      <td>1002</td>\n",
       "      <td>1</td>\n",
       "      <td>0.78342</td>\n",
       "      <td>1</td>\n",
       "      <td>BID PRICE</td>\n",
       "    </tr>\n",
       "    <tr>\n",
       "      <th>139</th>\n",
       "      <td>1002</td>\n",
       "      <td>1</td>\n",
       "      <td>0.78341</td>\n",
       "      <td>1</td>\n",
       "      <td>BID PRICE</td>\n",
       "    </tr>\n",
       "    <tr>\n",
       "      <th>140</th>\n",
       "      <td>1002</td>\n",
       "      <td>1</td>\n",
       "      <td>0.78342</td>\n",
       "      <td>1</td>\n",
       "      <td>BID PRICE</td>\n",
       "    </tr>\n",
       "    <tr>\n",
       "      <th>141</th>\n",
       "      <td>1002</td>\n",
       "      <td>2</td>\n",
       "      <td>0.78344</td>\n",
       "      <td>1</td>\n",
       "      <td>ASK PRICE</td>\n",
       "    </tr>\n",
       "    <tr>\n",
       "      <th>142</th>\n",
       "      <td>1002</td>\n",
       "      <td>2</td>\n",
       "      <td>0.78345</td>\n",
       "      <td>1</td>\n",
       "      <td>ASK PRICE</td>\n",
       "    </tr>\n",
       "  </tbody>\n",
       "</table>\n",
       "</div>"
      ],
      "text/plain": [
       "     tickerId  field    price  canAutoExecute       Type\n",
       "133      1002      1  0.78343               1  BID PRICE\n",
       "134      1002      1  0.78342               1  BID PRICE\n",
       "135      1002      1  0.78343               1  BID PRICE\n",
       "136      1002      1  0.78342               1  BID PRICE\n",
       "137      1002      1  0.78343               1  BID PRICE\n",
       "138      1002      1  0.78342               1  BID PRICE\n",
       "139      1002      1  0.78341               1  BID PRICE\n",
       "140      1002      1  0.78342               1  BID PRICE\n",
       "141      1002      2  0.78344               1  ASK PRICE\n",
       "142      1002      2  0.78345               1  ASK PRICE"
      ]
     },
     "execution_count": 27,
     "metadata": {},
     "output_type": "execute_result"
    }
   ],
   "source": [
    "tick_data = pd.DataFrame(callback.tick_Price, \n",
    "                         columns = ['tickerId', 'field', 'price', 'canAutoExecute'])\n",
    "tick_type = {0 : \"BID SIZE\",\n",
    "             1 : \"BID PRICE\",\n",
    "             2 : \"ASK PRICE\",\n",
    "             3 : \"ASK SIZE\",\n",
    "             4 : \"LAST PRICE\",\n",
    "             5 : \"LAST SIZE\",\n",
    "             6 : \"HIGH\",\n",
    "             7 : \"LOW\",\n",
    "             8 : \"VOLUME\",\n",
    "             9 : \"CLOSE PRICE\",\n",
    "             10 : \"BID OPTION COMPUTATION\",\n",
    "             11 : \"ASK OPTION COMPUTATION\",\n",
    "             12 : \"LAST OPTION COMPUTATION\",\n",
    "             13 : \"MODEL OPTION COMPUTATION\",\n",
    "             14 : \"OPEN_TICK\",\n",
    "             15 : \"LOW 13 WEEK\",\n",
    "             16 : \"HIGH 13 WEEK\",\n",
    "             17 : \"LOW 26 WEEK\",\n",
    "             18 : \"HIGH 26 WEEK\",\n",
    "             19 : \"LOW 52 WEEK\",\n",
    "             20 : \"HIGH 52 WEEK\",\n",
    "             21 : \"AVG VOLUME\",\n",
    "             22 : \"OPEN INTEREST\",\n",
    "             23 : \"OPTION HISTORICAL VOL\",\n",
    "             24 : \"OPTION IMPLIED VOL\",\n",
    "             27 : \"OPTION CALL OPEN INTEREST\",\n",
    "             28 : \"OPTION PUT OPEN INTEREST\",\n",
    "             29 : \"OPTION CALL VOLUME\"}\n",
    "tick_data[\"Type\"] = tick_data[\"field\"].map(tick_type)\n",
    "tick_data[-10:]"
   ]
  },
  {
   "cell_type": "markdown",
   "metadata": {},
   "source": [
    "#### Receiving Tick Size\n",
    "`self.tick_Size`"
   ]
  },
  {
   "cell_type": "code",
   "execution_count": 28,
   "metadata": {},
   "outputs": [
    {
     "data": {
      "text/html": [
       "<div>\n",
       "<style>\n",
       "    .dataframe thead tr:only-child th {\n",
       "        text-align: right;\n",
       "    }\n",
       "\n",
       "    .dataframe thead th {\n",
       "        text-align: left;\n",
       "    }\n",
       "\n",
       "    .dataframe tbody tr th {\n",
       "        vertical-align: top;\n",
       "    }\n",
       "</style>\n",
       "<table border=\"1\" class=\"dataframe\">\n",
       "  <thead>\n",
       "    <tr style=\"text-align: right;\">\n",
       "      <th></th>\n",
       "      <th>tickerId</th>\n",
       "      <th>field</th>\n",
       "      <th>size</th>\n",
       "      <th>Type</th>\n",
       "    </tr>\n",
       "  </thead>\n",
       "  <tbody>\n",
       "    <tr>\n",
       "      <th>1356</th>\n",
       "      <td>1002</td>\n",
       "      <td>3</td>\n",
       "      <td>1000000</td>\n",
       "      <td>ASK SIZE</td>\n",
       "    </tr>\n",
       "    <tr>\n",
       "      <th>1357</th>\n",
       "      <td>1002</td>\n",
       "      <td>0</td>\n",
       "      <td>3000000</td>\n",
       "      <td>BID SIZE</td>\n",
       "    </tr>\n",
       "    <tr>\n",
       "      <th>1358</th>\n",
       "      <td>1002</td>\n",
       "      <td>0</td>\n",
       "      <td>3000000</td>\n",
       "      <td>BID SIZE</td>\n",
       "    </tr>\n",
       "    <tr>\n",
       "      <th>1359</th>\n",
       "      <td>1002</td>\n",
       "      <td>0</td>\n",
       "      <td>1000000</td>\n",
       "      <td>BID SIZE</td>\n",
       "    </tr>\n",
       "    <tr>\n",
       "      <th>1360</th>\n",
       "      <td>1002</td>\n",
       "      <td>0</td>\n",
       "      <td>1000000</td>\n",
       "      <td>BID SIZE</td>\n",
       "    </tr>\n",
       "    <tr>\n",
       "      <th>1361</th>\n",
       "      <td>1002</td>\n",
       "      <td>0</td>\n",
       "      <td>4500000</td>\n",
       "      <td>BID SIZE</td>\n",
       "    </tr>\n",
       "    <tr>\n",
       "      <th>1362</th>\n",
       "      <td>1002</td>\n",
       "      <td>0</td>\n",
       "      <td>1000000</td>\n",
       "      <td>BID SIZE</td>\n",
       "    </tr>\n",
       "    <tr>\n",
       "      <th>1363</th>\n",
       "      <td>1002</td>\n",
       "      <td>0</td>\n",
       "      <td>1000000</td>\n",
       "      <td>BID SIZE</td>\n",
       "    </tr>\n",
       "    <tr>\n",
       "      <th>1364</th>\n",
       "      <td>1002</td>\n",
       "      <td>0</td>\n",
       "      <td>2000000</td>\n",
       "      <td>BID SIZE</td>\n",
       "    </tr>\n",
       "    <tr>\n",
       "      <th>1365</th>\n",
       "      <td>1002</td>\n",
       "      <td>0</td>\n",
       "      <td>1000000</td>\n",
       "      <td>BID SIZE</td>\n",
       "    </tr>\n",
       "  </tbody>\n",
       "</table>\n",
       "</div>"
      ],
      "text/plain": [
       "      tickerId  field     size      Type\n",
       "1356      1002      3  1000000  ASK SIZE\n",
       "1357      1002      0  3000000  BID SIZE\n",
       "1358      1002      0  3000000  BID SIZE\n",
       "1359      1002      0  1000000  BID SIZE\n",
       "1360      1002      0  1000000  BID SIZE\n",
       "1361      1002      0  4500000  BID SIZE\n",
       "1362      1002      0  1000000  BID SIZE\n",
       "1363      1002      0  1000000  BID SIZE\n",
       "1364      1002      0  2000000  BID SIZE\n",
       "1365      1002      0  1000000  BID SIZE"
      ]
     },
     "execution_count": 28,
     "metadata": {},
     "output_type": "execute_result"
    },
    {
     "name": "stdout",
     "output_type": "stream",
     "text": [
      "[-1, 1100, 'Connectivity between IB and Trader Workstation has been lost.']\n",
      "[-1, 2105, 'HMDS data farm connection is broken:ushmds']\n",
      "[-1, 2103, 'Market data farm connection is broken:secdefus']\n",
      "[-1, 2103, 'Market data farm connection is broken:usfarm']\n",
      "[-1, 2103, 'Market data farm connection is broken:jfarm']\n",
      "[-1, 2103, 'Market data farm connection is broken:cashfarm']\n",
      "[-1, 2103, 'Market data farm connection is broken:usfarm.us']\n",
      "[-1, 2103, 'Market data farm connection is broken:hfarm']\n",
      "[-1, 2103, 'Market data farm connection is broken:usfuture']\n",
      "[-1, 2105, 'HMDS data farm connection is broken:euhmds']\n",
      "[-1, 2105, 'HMDS data farm connection is broken:ilhmds']\n",
      "[-1, 2103, 'Market data farm connection is broken:eufarm']\n",
      "[-1, 2105, 'HMDS data farm connection is broken:fundfarm']\n",
      "[-1, 1102, 'Connectivity between IB and Trader Workstation has been restored - data maintained.']\n",
      "[-1, 2104, 'Market data farm connection is OK:jfarm']\n",
      "[-1, 2103, 'Market data farm connection is broken:usopt']\n",
      "[-1, 2104, 'Market data farm connection is OK:hfarm']\n",
      "[-1, 2106, 'HMDS data farm connection is OK:ilhmds']\n",
      "[-1, 2104, 'Market data farm connection is OK:secdefus']\n",
      "[-1, 2106, 'HMDS data farm connection is OK:fundfarm']\n",
      "[-1, 2106, 'HMDS data farm connection is OK:ushmds']\n",
      "[-1, 2104, 'Market data farm connection is OK:cashfarm']\n",
      "[-1, 2104, 'Market data farm connection is OK:usfuture']\n",
      "[-1, 2104, 'Market data farm connection is OK:usfarm']\n",
      "[-1, 2106, 'HMDS data farm connection is OK:euhmds']\n",
      "[-1, 2104, 'Market data farm connection is OK:eufarm']\n",
      "[-1, 2104, 'Market data farm connection is OK:usopt']\n",
      "[-1, 2104, 'Market data farm connection is OK:usfarm.us']\n"
     ]
    }
   ],
   "source": [
    "tick_data = pd.DataFrame(callback.tick_Size, \n",
    "                         columns = [\"tickerId\", \"field\", \"size\"])\n",
    "tick_data[\"Type\"] = tick_data[\"field\"].map(tick_type)\n",
    "tick_data[-10:]"
   ]
  },
  {
   "cell_type": "markdown",
   "metadata": {},
   "source": [
    "#### Calculate Implied Volatility\n",
    "`calculateImpliedVolatility`"
   ]
  },
  {
   "cell_type": "code",
   "execution_count": 29,
   "metadata": {},
   "outputs": [],
   "source": [
    "contract_info = create.create_contract(symbol='NFLX 180316C00265000',\n",
    "                                       secType='OPT', exchange='SMART', \n",
    "                                       currency='USD',\n",
    "                                       right='CALL', \n",
    "                                       strike='265', \n",
    "                                       expiry='20180316',\n",
    "                                       multiplier=100, \n",
    "                                       tradingClass=\"NFLX\")\n",
    "tws.calculateImpliedVolatility(tickedId, \n",
    "                               contract_info, \n",
    "                               6.71, \n",
    "                               255)"
   ]
  },
  {
   "cell_type": "code",
   "execution_count": 30,
   "metadata": {},
   "outputs": [
    {
     "data": {
      "text/html": [
       "<div>\n",
       "<style>\n",
       "    .dataframe thead tr:only-child th {\n",
       "        text-align: right;\n",
       "    }\n",
       "\n",
       "    .dataframe thead th {\n",
       "        text-align: left;\n",
       "    }\n",
       "\n",
       "    .dataframe tbody tr th {\n",
       "        vertical-align: top;\n",
       "    }\n",
       "</style>\n",
       "<table border=\"1\" class=\"dataframe\">\n",
       "  <thead>\n",
       "    <tr style=\"text-align: right;\">\n",
       "      <th></th>\n",
       "      <th>tickerId</th>\n",
       "      <th>field</th>\n",
       "      <th>impliedVol</th>\n",
       "      <th>delta</th>\n",
       "      <th>optPrice</th>\n",
       "      <th>pvDividend</th>\n",
       "      <th>gamma</th>\n",
       "      <th>vega</th>\n",
       "      <th>theta</th>\n",
       "      <th>undPrice</th>\n",
       "    </tr>\n",
       "  </thead>\n",
       "  <tbody>\n",
       "    <tr>\n",
       "      <th>0</th>\n",
       "      <td>1002</td>\n",
       "      <td>53</td>\n",
       "      <td>0.352453</td>\n",
       "      <td>9223372036854775807</td>\n",
       "      <td>6.71</td>\n",
       "      <td>9223372036854775807</td>\n",
       "      <td>9223372036854775807</td>\n",
       "      <td>9223372036854775807</td>\n",
       "      <td>9223372036854775807</td>\n",
       "      <td>255.0</td>\n",
       "    </tr>\n",
       "  </tbody>\n",
       "</table>\n",
       "</div>"
      ],
      "text/plain": [
       "   tickerId  field  impliedVol                delta  optPrice  \\\n",
       "0      1002     53    0.352453  9223372036854775807      6.71   \n",
       "\n",
       "            pvDividend                gamma                 vega  \\\n",
       "0  9223372036854775807  9223372036854775807  9223372036854775807   \n",
       "\n",
       "                 theta  undPrice  \n",
       "0  9223372036854775807     255.0  "
      ]
     },
     "execution_count": 30,
     "metadata": {},
     "output_type": "execute_result"
    }
   ],
   "source": [
    "pd.DataFrame(callback.tick_OptionComputation,\n",
    "             columns=[\"tickerId\", \"field\", \"impliedVol\", \"delta\",\n",
    "                      \"optPrice\", \"pvDividend\", \"gamma\", \"vega\",\n",
    "                      \"theta\", \"undPrice\"])"
   ]
  },
  {
   "cell_type": "markdown",
   "metadata": {},
   "source": [
    "#### Calculate Option Price\n",
    "`tick_OptionComputation`"
   ]
  },
  {
   "cell_type": "code",
   "execution_count": 31,
   "metadata": {
    "collapsed": true
   },
   "outputs": [],
   "source": [
    "tws.calculateOptionPrice(tickedId, \n",
    "                         contract_info, \n",
    "                         0.35, \n",
    "                         255)"
   ]
  },
  {
   "cell_type": "code",
   "execution_count": 32,
   "metadata": {},
   "outputs": [
    {
     "data": {
      "text/html": [
       "<div>\n",
       "<style>\n",
       "    .dataframe thead tr:only-child th {\n",
       "        text-align: right;\n",
       "    }\n",
       "\n",
       "    .dataframe thead th {\n",
       "        text-align: left;\n",
       "    }\n",
       "\n",
       "    .dataframe tbody tr th {\n",
       "        vertical-align: top;\n",
       "    }\n",
       "</style>\n",
       "<table border=\"1\" class=\"dataframe\">\n",
       "  <thead>\n",
       "    <tr style=\"text-align: right;\">\n",
       "      <th></th>\n",
       "      <th>tickerId</th>\n",
       "      <th>field</th>\n",
       "      <th>impliedVol</th>\n",
       "      <th>delta</th>\n",
       "      <th>optPrice</th>\n",
       "      <th>pvDividend</th>\n",
       "      <th>gamma</th>\n",
       "      <th>vega</th>\n",
       "      <th>theta</th>\n",
       "      <th>undPrice</th>\n",
       "    </tr>\n",
       "  </thead>\n",
       "  <tbody>\n",
       "    <tr>\n",
       "      <th>0</th>\n",
       "      <td>1002</td>\n",
       "      <td>53</td>\n",
       "      <td>0.352453</td>\n",
       "      <td>9.223372e+18</td>\n",
       "      <td>6.71000</td>\n",
       "      <td>9223372036854775807</td>\n",
       "      <td>9.223372e+18</td>\n",
       "      <td>9.223372e+18</td>\n",
       "      <td>9223372036854775807</td>\n",
       "      <td>255.0</td>\n",
       "    </tr>\n",
       "    <tr>\n",
       "      <th>1</th>\n",
       "      <td>1002</td>\n",
       "      <td>53</td>\n",
       "      <td>0.350000</td>\n",
       "      <td>3.799643e-01</td>\n",
       "      <td>6.63721</td>\n",
       "      <td>9223372036854775807</td>\n",
       "      <td>1.441497e-02</td>\n",
       "      <td>2.962468e-01</td>\n",
       "      <td>9223372036854775807</td>\n",
       "      <td>255.0</td>\n",
       "    </tr>\n",
       "  </tbody>\n",
       "</table>\n",
       "</div>"
      ],
      "text/plain": [
       "   tickerId  field  impliedVol         delta  optPrice           pvDividend  \\\n",
       "0      1002     53    0.352453  9.223372e+18   6.71000  9223372036854775807   \n",
       "1      1002     53    0.350000  3.799643e-01   6.63721  9223372036854775807   \n",
       "\n",
       "          gamma          vega                theta  undPrice  \n",
       "0  9.223372e+18  9.223372e+18  9223372036854775807     255.0  \n",
       "1  1.441497e-02  2.962468e-01  9223372036854775807     255.0  "
      ]
     },
     "execution_count": 32,
     "metadata": {},
     "output_type": "execute_result"
    }
   ],
   "source": [
    "pd.DataFrame(callback.tick_OptionComputation,\n",
    "             columns=[\"tickerId\", \"field\", \"impliedVol\", \"delta\",\n",
    "                      \"optPrice\", \"pvDividend\", \"gamma\", \"vega\",\n",
    "                      \"theta\", \"undPrice\"])"
   ]
  },
  {
   "cell_type": "markdown",
   "metadata": {},
   "source": [
    "#### Cancelling Market Data Stream\n",
    "`cancelMktData`"
   ]
  },
  {
   "cell_type": "code",
   "execution_count": 33,
   "metadata": {},
   "outputs": [],
   "source": [
    "tws.cancelMktData(tickedId)"
   ]
  },
  {
   "cell_type": "markdown",
   "metadata": {
    "collapsed": true
   },
   "source": [
    "*****"
   ]
  },
  {
   "cell_type": "markdown",
   "metadata": {},
   "source": [
    "# Historical Data\n",
    "### Learning Outcomes\n",
    "For this section, you will learn how you can obtain the following information:\n",
    "1. Historical Data"
   ]
  },
  {
   "cell_type": "markdown",
   "metadata": {},
   "source": [
    "### Summary of Historical Data\n",
    "\n",
    "| Request Call | Functions Utilised | Data Stored in |\n",
    "| --- | --- | --- |\n",
    "| reqHistoricalData | historicalData  | self.historical_Data |"
   ]
  },
  {
   "cell_type": "code",
   "execution_count": 34,
   "metadata": {},
   "outputs": [],
   "source": [
    "#contract_Details = create.create_contract('EUR', 'CASH', 'IDEALPRO', 'USD')\n",
    "contract_Details = create.create_contract('AAPL', 'STK', 'SMART', 'USD')"
   ]
  },
  {
   "cell_type": "code",
   "execution_count": 35,
   "metadata": {
    "collapsed": true
   },
   "outputs": [],
   "source": [
    "data_endtime = datetime.now().strftime(\"%Y%m%d %H:%M:%S\")"
   ]
  },
  {
   "cell_type": "markdown",
   "metadata": {},
   "source": [
    "#### Requesting Historical Data\n",
    "`reqHistoricalData`"
   ]
  },
  {
   "cell_type": "code",
   "execution_count": 36,
   "metadata": {
    "collapsed": true
   },
   "outputs": [],
   "source": [
    "tickerId = 9002\n",
    "tws.reqHistoricalData(tickerId, \n",
    "                      contract_Details, \n",
    "                      data_endtime,\n",
    "                      \"1 M\", \n",
    "                      \"1 day\", \n",
    "                      \"BID\", \n",
    "                      0, \n",
    "                      1)"
   ]
  },
  {
   "cell_type": "code",
   "execution_count": 37,
   "metadata": {},
   "outputs": [
    {
     "data": {
      "text/html": [
       "<div>\n",
       "<style>\n",
       "    .dataframe thead tr:only-child th {\n",
       "        text-align: right;\n",
       "    }\n",
       "\n",
       "    .dataframe thead th {\n",
       "        text-align: left;\n",
       "    }\n",
       "\n",
       "    .dataframe tbody tr th {\n",
       "        vertical-align: top;\n",
       "    }\n",
       "</style>\n",
       "<table border=\"1\" class=\"dataframe\">\n",
       "  <thead>\n",
       "    <tr style=\"text-align: right;\">\n",
       "      <th></th>\n",
       "      <th>reqId</th>\n",
       "      <th>date</th>\n",
       "      <th>open</th>\n",
       "      <th>high</th>\n",
       "      <th>low</th>\n",
       "      <th>close</th>\n",
       "      <th>volume</th>\n",
       "      <th>count</th>\n",
       "      <th>WAP</th>\n",
       "      <th>hasGaps</th>\n",
       "    </tr>\n",
       "  </thead>\n",
       "  <tbody>\n",
       "    <tr>\n",
       "      <th>11</th>\n",
       "      <td>9002</td>\n",
       "      <td>20180131</td>\n",
       "      <td>166.21</td>\n",
       "      <td>168.44</td>\n",
       "      <td>165.43</td>\n",
       "      <td>166.80</td>\n",
       "      <td>-1</td>\n",
       "      <td>-1</td>\n",
       "      <td>-1.0</td>\n",
       "      <td>False</td>\n",
       "    </tr>\n",
       "    <tr>\n",
       "      <th>12</th>\n",
       "      <td>9002</td>\n",
       "      <td>20180201</td>\n",
       "      <td>166.86</td>\n",
       "      <td>174.26</td>\n",
       "      <td>162.62</td>\n",
       "      <td>173.45</td>\n",
       "      <td>-1</td>\n",
       "      <td>-1</td>\n",
       "      <td>-1.0</td>\n",
       "      <td>False</td>\n",
       "    </tr>\n",
       "    <tr>\n",
       "      <th>13</th>\n",
       "      <td>9002</td>\n",
       "      <td>20180202</td>\n",
       "      <td>171.90</td>\n",
       "      <td>172.26</td>\n",
       "      <td>160.00</td>\n",
       "      <td>160.00</td>\n",
       "      <td>-1</td>\n",
       "      <td>-1</td>\n",
       "      <td>-1.0</td>\n",
       "      <td>False</td>\n",
       "    </tr>\n",
       "    <tr>\n",
       "      <th>14</th>\n",
       "      <td>9002</td>\n",
       "      <td>20180205</td>\n",
       "      <td>160.00</td>\n",
       "      <td>163.87</td>\n",
       "      <td>155.35</td>\n",
       "      <td>155.40</td>\n",
       "      <td>-1</td>\n",
       "      <td>-1</td>\n",
       "      <td>-1.0</td>\n",
       "      <td>False</td>\n",
       "    </tr>\n",
       "    <tr>\n",
       "      <th>15</th>\n",
       "      <td>9002</td>\n",
       "      <td>20180206</td>\n",
       "      <td>155.61</td>\n",
       "      <td>163.71</td>\n",
       "      <td>154.00</td>\n",
       "      <td>162.90</td>\n",
       "      <td>-1</td>\n",
       "      <td>-1</td>\n",
       "      <td>-1.0</td>\n",
       "      <td>False</td>\n",
       "    </tr>\n",
       "    <tr>\n",
       "      <th>16</th>\n",
       "      <td>9002</td>\n",
       "      <td>20180207</td>\n",
       "      <td>161.10</td>\n",
       "      <td>163.39</td>\n",
       "      <td>158.75</td>\n",
       "      <td>158.84</td>\n",
       "      <td>-1</td>\n",
       "      <td>-1</td>\n",
       "      <td>-1.0</td>\n",
       "      <td>False</td>\n",
       "    </tr>\n",
       "    <tr>\n",
       "      <th>17</th>\n",
       "      <td>9002</td>\n",
       "      <td>20180208</td>\n",
       "      <td>159.80</td>\n",
       "      <td>161.00</td>\n",
       "      <td>155.04</td>\n",
       "      <td>156.20</td>\n",
       "      <td>-1</td>\n",
       "      <td>-1</td>\n",
       "      <td>-1.0</td>\n",
       "      <td>False</td>\n",
       "    </tr>\n",
       "    <tr>\n",
       "      <th>18</th>\n",
       "      <td>9002</td>\n",
       "      <td>20180209</td>\n",
       "      <td>156.51</td>\n",
       "      <td>157.88</td>\n",
       "      <td>150.24</td>\n",
       "      <td>156.73</td>\n",
       "      <td>-1</td>\n",
       "      <td>-1</td>\n",
       "      <td>-1.0</td>\n",
       "      <td>False</td>\n",
       "    </tr>\n",
       "    <tr>\n",
       "      <th>19</th>\n",
       "      <td>9002</td>\n",
       "      <td>20180212</td>\n",
       "      <td>140.74</td>\n",
       "      <td>158.93</td>\n",
       "      <td>140.74</td>\n",
       "      <td>158.80</td>\n",
       "      <td>-1</td>\n",
       "      <td>-1</td>\n",
       "      <td>-1.0</td>\n",
       "      <td>False</td>\n",
       "    </tr>\n",
       "    <tr>\n",
       "      <th>20</th>\n",
       "      <td>9002</td>\n",
       "      <td>finished-20180112  21:38:11-20180212  21:38:11</td>\n",
       "      <td>-1.00</td>\n",
       "      <td>-1.00</td>\n",
       "      <td>-1.00</td>\n",
       "      <td>-1.00</td>\n",
       "      <td>-1</td>\n",
       "      <td>-1</td>\n",
       "      <td>-1.0</td>\n",
       "      <td>False</td>\n",
       "    </tr>\n",
       "  </tbody>\n",
       "</table>\n",
       "</div>"
      ],
      "text/plain": [
       "    reqId                                            date    open    high  \\\n",
       "11   9002                                        20180131  166.21  168.44   \n",
       "12   9002                                        20180201  166.86  174.26   \n",
       "13   9002                                        20180202  171.90  172.26   \n",
       "14   9002                                        20180205  160.00  163.87   \n",
       "15   9002                                        20180206  155.61  163.71   \n",
       "16   9002                                        20180207  161.10  163.39   \n",
       "17   9002                                        20180208  159.80  161.00   \n",
       "18   9002                                        20180209  156.51  157.88   \n",
       "19   9002                                        20180212  140.74  158.93   \n",
       "20   9002  finished-20180112  21:38:11-20180212  21:38:11   -1.00   -1.00   \n",
       "\n",
       "       low   close  volume  count  WAP  hasGaps  \n",
       "11  165.43  166.80      -1     -1 -1.0    False  \n",
       "12  162.62  173.45      -1     -1 -1.0    False  \n",
       "13  160.00  160.00      -1     -1 -1.0    False  \n",
       "14  155.35  155.40      -1     -1 -1.0    False  \n",
       "15  154.00  162.90      -1     -1 -1.0    False  \n",
       "16  158.75  158.84      -1     -1 -1.0    False  \n",
       "17  155.04  156.20      -1     -1 -1.0    False  \n",
       "18  150.24  156.73      -1     -1 -1.0    False  \n",
       "19  140.74  158.80      -1     -1 -1.0    False  \n",
       "20   -1.00   -1.00      -1     -1 -1.0    False  "
      ]
     },
     "execution_count": 37,
     "metadata": {},
     "output_type": "execute_result"
    }
   ],
   "source": [
    "data= pd.DataFrame(callback.historical_Data, \n",
    "                   columns = [\"reqId\", \"date\", \"open\",\n",
    "                              \"high\", \"low\", \"close\", \n",
    "                              \"volume\", \"count\", \"WAP\", \n",
    "                              \"hasGaps\"])\n",
    "data[-10:]"
   ]
  },
  {
   "cell_type": "markdown",
   "metadata": {},
   "source": [
    "*****"
   ]
  },
  {
   "cell_type": "markdown",
   "metadata": {},
   "source": [
    "# Market Depth\n",
    "### Learning Outcomes\n",
    "For this section, you will learn how you can obtain the following information:\n",
    "1. Request Market Depth"
   ]
  },
  {
   "cell_type": "markdown",
   "metadata": {},
   "source": [
    "### Summary of Market Depth\n",
    "\n",
    "| Request Call | Functions Utilised | Data Stored in |\n",
    "| --- | --- | --- |\n",
    "| reqMktDepth           | updateMktDepth          | self.update_MktDepth |"
   ]
  },
  {
   "cell_type": "code",
   "execution_count": 38,
   "metadata": {
    "collapsed": true
   },
   "outputs": [],
   "source": [
    "contract_info = create.create_contract('EUR', 'CASH', 'IDEALPRO', 'USD')"
   ]
  },
  {
   "cell_type": "code",
   "execution_count": 39,
   "metadata": {
    "collapsed": true
   },
   "outputs": [],
   "source": [
    "tickerId = 7000\n",
    "tws.reqMktDepth(tickerId, contract_info, 5)"
   ]
  },
  {
   "cell_type": "code",
   "execution_count": 40,
   "metadata": {},
   "outputs": [],
   "source": [
    "operation_type = {0 : \"Insert\",\n",
    "                  1 : \"Update\",\n",
    "                  2 : \"Delete\",}\n",
    "side_type = {0 : \"Ask\",\n",
    "             1 : \"Bid\"}"
   ]
  },
  {
   "cell_type": "code",
   "execution_count": 41,
   "metadata": {},
   "outputs": [
    {
     "data": {
      "text/html": [
       "<div>\n",
       "<style>\n",
       "    .dataframe thead tr:only-child th {\n",
       "        text-align: right;\n",
       "    }\n",
       "\n",
       "    .dataframe thead th {\n",
       "        text-align: left;\n",
       "    }\n",
       "\n",
       "    .dataframe tbody tr th {\n",
       "        vertical-align: top;\n",
       "    }\n",
       "</style>\n",
       "<table border=\"1\" class=\"dataframe\">\n",
       "  <thead>\n",
       "    <tr style=\"text-align: right;\">\n",
       "      <th></th>\n",
       "      <th>tickerId</th>\n",
       "      <th>position</th>\n",
       "      <th>operation</th>\n",
       "      <th>side</th>\n",
       "      <th>price</th>\n",
       "      <th>size</th>\n",
       "      <th>operation_type</th>\n",
       "      <th>side_type</th>\n",
       "    </tr>\n",
       "  </thead>\n",
       "  <tbody>\n",
       "    <tr>\n",
       "      <th>633</th>\n",
       "      <td>7000</td>\n",
       "      <td>1</td>\n",
       "      <td>1</td>\n",
       "      <td>1</td>\n",
       "      <td>1.22393</td>\n",
       "      <td>7500000</td>\n",
       "      <td>Update</td>\n",
       "      <td>Bid</td>\n",
       "    </tr>\n",
       "    <tr>\n",
       "      <th>634</th>\n",
       "      <td>7000</td>\n",
       "      <td>2</td>\n",
       "      <td>1</td>\n",
       "      <td>1</td>\n",
       "      <td>1.22392</td>\n",
       "      <td>6000000</td>\n",
       "      <td>Update</td>\n",
       "      <td>Bid</td>\n",
       "    </tr>\n",
       "    <tr>\n",
       "      <th>635</th>\n",
       "      <td>7000</td>\n",
       "      <td>0</td>\n",
       "      <td>1</td>\n",
       "      <td>0</td>\n",
       "      <td>1.22395</td>\n",
       "      <td>3000000</td>\n",
       "      <td>Update</td>\n",
       "      <td>Ask</td>\n",
       "    </tr>\n",
       "    <tr>\n",
       "      <th>636</th>\n",
       "      <td>7000</td>\n",
       "      <td>1</td>\n",
       "      <td>1</td>\n",
       "      <td>0</td>\n",
       "      <td>1.22396</td>\n",
       "      <td>1000000</td>\n",
       "      <td>Update</td>\n",
       "      <td>Ask</td>\n",
       "    </tr>\n",
       "    <tr>\n",
       "      <th>637</th>\n",
       "      <td>7000</td>\n",
       "      <td>3</td>\n",
       "      <td>1</td>\n",
       "      <td>0</td>\n",
       "      <td>1.22399</td>\n",
       "      <td>2500000</td>\n",
       "      <td>Update</td>\n",
       "      <td>Ask</td>\n",
       "    </tr>\n",
       "    <tr>\n",
       "      <th>638</th>\n",
       "      <td>7000</td>\n",
       "      <td>4</td>\n",
       "      <td>1</td>\n",
       "      <td>0</td>\n",
       "      <td>1.22400</td>\n",
       "      <td>1500000</td>\n",
       "      <td>Update</td>\n",
       "      <td>Ask</td>\n",
       "    </tr>\n",
       "    <tr>\n",
       "      <th>639</th>\n",
       "      <td>7000</td>\n",
       "      <td>3</td>\n",
       "      <td>1</td>\n",
       "      <td>1</td>\n",
       "      <td>1.22391</td>\n",
       "      <td>3000000</td>\n",
       "      <td>Update</td>\n",
       "      <td>Bid</td>\n",
       "    </tr>\n",
       "    <tr>\n",
       "      <th>640</th>\n",
       "      <td>7000</td>\n",
       "      <td>4</td>\n",
       "      <td>1</td>\n",
       "      <td>1</td>\n",
       "      <td>1.22390</td>\n",
       "      <td>3000000</td>\n",
       "      <td>Update</td>\n",
       "      <td>Bid</td>\n",
       "    </tr>\n",
       "    <tr>\n",
       "      <th>641</th>\n",
       "      <td>7000</td>\n",
       "      <td>0</td>\n",
       "      <td>1</td>\n",
       "      <td>0</td>\n",
       "      <td>1.22395</td>\n",
       "      <td>2000000</td>\n",
       "      <td>Update</td>\n",
       "      <td>Ask</td>\n",
       "    </tr>\n",
       "    <tr>\n",
       "      <th>642</th>\n",
       "      <td>7000</td>\n",
       "      <td>1</td>\n",
       "      <td>1</td>\n",
       "      <td>0</td>\n",
       "      <td>1.22396</td>\n",
       "      <td>2000000</td>\n",
       "      <td>Update</td>\n",
       "      <td>Ask</td>\n",
       "    </tr>\n",
       "  </tbody>\n",
       "</table>\n",
       "</div>"
      ],
      "text/plain": [
       "     tickerId  position  operation  side    price     size operation_type  \\\n",
       "633      7000         1          1     1  1.22393  7500000         Update   \n",
       "634      7000         2          1     1  1.22392  6000000         Update   \n",
       "635      7000         0          1     0  1.22395  3000000         Update   \n",
       "636      7000         1          1     0  1.22396  1000000         Update   \n",
       "637      7000         3          1     0  1.22399  2500000         Update   \n",
       "638      7000         4          1     0  1.22400  1500000         Update   \n",
       "639      7000         3          1     1  1.22391  3000000         Update   \n",
       "640      7000         4          1     1  1.22390  3000000         Update   \n",
       "641      7000         0          1     0  1.22395  2000000         Update   \n",
       "642      7000         1          1     0  1.22396  2000000         Update   \n",
       "\n",
       "    side_type  \n",
       "633       Bid  \n",
       "634       Bid  \n",
       "635       Ask  \n",
       "636       Ask  \n",
       "637       Ask  \n",
       "638       Ask  \n",
       "639       Bid  \n",
       "640       Bid  \n",
       "641       Ask  \n",
       "642       Ask  "
      ]
     },
     "execution_count": 41,
     "metadata": {},
     "output_type": "execute_result"
    },
    {
     "name": "stdout",
     "output_type": "stream",
     "text": [
      "[-1, 2103, 'Market data farm connection is broken:secdefus']\n",
      "[7000, 317, 'Market depth data has been RESET. Please empty deep book contents before applying any new entries.']\n",
      "[-1, 2103, 'Market data farm connection is broken:cashfarm']\n",
      "[-1, 2103, 'Market data farm connection is broken:eufarm']\n",
      "[-1, 2104, 'Market data farm connection is OK:eufarm']\n",
      "[-1, 2103, 'Market data farm connection is broken:secdefus']\n",
      "[-1, 2104, 'Market data farm connection is OK:secdefus']\n"
     ]
    }
   ],
   "source": [
    "data_mktdepth = pd.DataFrame(callback.update_MktDepth,\n",
    "                             columns = [\"tickerId\", \"position\", \n",
    "                                        \"operation\", \"side\", \n",
    "                                        \"price\", \"size\"])\n",
    "data_mktdepth[\"operation_type\"] = data_mktdepth[\"operation\"].map(operation_type)\n",
    "data_mktdepth[\"side_type\"] = data_mktdepth[\"side\"].map(side_type)\n",
    "data_mktdepth[-10:]"
   ]
  },
  {
   "cell_type": "markdown",
   "metadata": {},
   "source": [
    "*****"
   ]
  },
  {
   "cell_type": "markdown",
   "metadata": {},
   "source": [
    "# Real Time Bars\n",
    "### Learning Outcomes\n",
    "For this section, you will learn how you can obtain the following information:\n",
    "1. Request Real Time Bars\n",
    "\n",
    "Note:\n",
    "* **barSize**. Only 5 sec bars are supported. \n",
    "* **whatToShow**:\n",
    "   * TRADES\n",
    "   * BID\n",
    "   * ASK\n",
    "   * MIDPOINT\n",
    "* **useRTH**:\n",
    "   * 0 = all data\n",
    "   * 1 = only data within **R**egular **T**rading **H**ours"
   ]
  },
  {
   "cell_type": "markdown",
   "metadata": {},
   "source": [
    "### Summary of Real Time Bars\n",
    "\n",
    "| Request Call | Functions Utilised | Data Stored in |\n",
    "| --- | --- | --- |\n",
    "| reqRealTimeBars           | realtimeBar          | self.real_timeBar |"
   ]
  },
  {
   "cell_type": "code",
   "execution_count": 42,
   "metadata": {},
   "outputs": [
    {
     "name": "stdout",
     "output_type": "stream",
     "text": [
      "[-1, 2104, 'Market data farm connection is OK:cashfarm']\n"
     ]
    }
   ],
   "source": [
    "contract_Details = create.create_contract('GBP', 'CASH', 'IDEALPRO', 'USD')"
   ]
  },
  {
   "cell_type": "code",
   "execution_count": 43,
   "metadata": {},
   "outputs": [
    {
     "name": "stdout",
     "output_type": "stream",
     "text": [
      "[-1, 2106, 'HMDS data farm connection is OK:cashhmds']\n"
     ]
    }
   ],
   "source": [
    "tickerId = 10000\n",
    "tws.reqRealTimeBars(tickerId, \n",
    "                    contract_Details, \n",
    "                    5, \n",
    "                    \"MIDPOINT\", \n",
    "                    0)"
   ]
  },
  {
   "cell_type": "code",
   "execution_count": 45,
   "metadata": {
    "scrolled": true
   },
   "outputs": [
    {
     "data": {
      "text/html": [
       "<div>\n",
       "<style>\n",
       "    .dataframe thead tr:only-child th {\n",
       "        text-align: right;\n",
       "    }\n",
       "\n",
       "    .dataframe thead th {\n",
       "        text-align: left;\n",
       "    }\n",
       "\n",
       "    .dataframe tbody tr th {\n",
       "        vertical-align: top;\n",
       "    }\n",
       "</style>\n",
       "<table border=\"1\" class=\"dataframe\">\n",
       "  <thead>\n",
       "    <tr style=\"text-align: right;\">\n",
       "      <th></th>\n",
       "      <th>reqId</th>\n",
       "      <th>time</th>\n",
       "      <th>open</th>\n",
       "      <th>high</th>\n",
       "      <th>low</th>\n",
       "      <th>close</th>\n",
       "      <th>volume</th>\n",
       "      <th>wap</th>\n",
       "      <th>count</th>\n",
       "    </tr>\n",
       "  </thead>\n",
       "  <tbody>\n",
       "    <tr>\n",
       "      <th>0</th>\n",
       "      <td>10000</td>\n",
       "      <td>1518443460</td>\n",
       "      <td>1.381705</td>\n",
       "      <td>1.381810</td>\n",
       "      <td>1.381705</td>\n",
       "      <td>1.381810</td>\n",
       "      <td>-1</td>\n",
       "      <td>-1.0</td>\n",
       "      <td>-1</td>\n",
       "    </tr>\n",
       "    <tr>\n",
       "      <th>1</th>\n",
       "      <td>10000</td>\n",
       "      <td>1518443465</td>\n",
       "      <td>1.381810</td>\n",
       "      <td>1.381810</td>\n",
       "      <td>1.381790</td>\n",
       "      <td>1.381795</td>\n",
       "      <td>-1</td>\n",
       "      <td>-1.0</td>\n",
       "      <td>-1</td>\n",
       "    </tr>\n",
       "    <tr>\n",
       "      <th>2</th>\n",
       "      <td>10000</td>\n",
       "      <td>1518443470</td>\n",
       "      <td>1.381795</td>\n",
       "      <td>1.381805</td>\n",
       "      <td>1.381790</td>\n",
       "      <td>1.381795</td>\n",
       "      <td>-1</td>\n",
       "      <td>-1.0</td>\n",
       "      <td>-1</td>\n",
       "    </tr>\n",
       "    <tr>\n",
       "      <th>3</th>\n",
       "      <td>10000</td>\n",
       "      <td>1518443475</td>\n",
       "      <td>1.381795</td>\n",
       "      <td>1.381845</td>\n",
       "      <td>1.381790</td>\n",
       "      <td>1.381840</td>\n",
       "      <td>-1</td>\n",
       "      <td>-1.0</td>\n",
       "      <td>-1</td>\n",
       "    </tr>\n",
       "    <tr>\n",
       "      <th>4</th>\n",
       "      <td>10000</td>\n",
       "      <td>1518443480</td>\n",
       "      <td>1.381840</td>\n",
       "      <td>1.381860</td>\n",
       "      <td>1.381825</td>\n",
       "      <td>1.381855</td>\n",
       "      <td>-1</td>\n",
       "      <td>-1.0</td>\n",
       "      <td>-1</td>\n",
       "    </tr>\n",
       "    <tr>\n",
       "      <th>5</th>\n",
       "      <td>10000</td>\n",
       "      <td>1518443485</td>\n",
       "      <td>1.381855</td>\n",
       "      <td>1.381855</td>\n",
       "      <td>1.381815</td>\n",
       "      <td>1.381845</td>\n",
       "      <td>-1</td>\n",
       "      <td>-1.0</td>\n",
       "      <td>-1</td>\n",
       "    </tr>\n",
       "  </tbody>\n",
       "</table>\n",
       "</div>"
      ],
      "text/plain": [
       "   reqId        time      open      high       low     close  volume  wap  \\\n",
       "0  10000  1518443460  1.381705  1.381810  1.381705  1.381810      -1 -1.0   \n",
       "1  10000  1518443465  1.381810  1.381810  1.381790  1.381795      -1 -1.0   \n",
       "2  10000  1518443470  1.381795  1.381805  1.381790  1.381795      -1 -1.0   \n",
       "3  10000  1518443475  1.381795  1.381845  1.381790  1.381840      -1 -1.0   \n",
       "4  10000  1518443480  1.381840  1.381860  1.381825  1.381855      -1 -1.0   \n",
       "5  10000  1518443485  1.381855  1.381855  1.381815  1.381845      -1 -1.0   \n",
       "\n",
       "   count  \n",
       "0     -1  \n",
       "1     -1  \n",
       "2     -1  \n",
       "3     -1  \n",
       "4     -1  \n",
       "5     -1  "
      ]
     },
     "execution_count": 45,
     "metadata": {},
     "output_type": "execute_result"
    }
   ],
   "source": [
    "pd.DataFrame(callback.real_timeBar, \n",
    "             columns = [\"reqId\", \"time\", \"open\", \"high\", \"low\", \"close\", \"volume\", \"wap\", \"count\"])"
   ]
  },
  {
   "cell_type": "markdown",
   "metadata": {},
   "source": [
    "*****"
   ]
  },
  {
   "cell_type": "markdown",
   "metadata": {},
   "source": [
    "# Executions\n",
    "### Learning Outcomes\n",
    "For this section, you will learn how you can obtain the following information:\n",
    "1. Request Executions"
   ]
  },
  {
   "cell_type": "markdown",
   "metadata": {},
   "source": [
    "### Summary of Executions\n",
    "\n",
    "| Request Call | Functions Utilised | Data Stored in |\n",
    "| --- | --- | --- |\n",
    "| reqExecutions           | execDetails          | self.exec_Details_reqId |\n",
    "| | | self.exec_Details_contract |\n",
    "| | | self.exec_Details_execution |\n",
    "| | execDetailsEnd |self.exec_DetailsEnd_flag |\n",
    "| | commissionReport | self.commission_Report |"
   ]
  },
  {
   "cell_type": "code",
   "execution_count": 47,
   "metadata": {},
   "outputs": [],
   "source": [
    "tws.reqIds(1)\n",
    "order_id = callback.next_ValidId + 1\n",
    "contract_info = create.create_contract(symbol = \"ES\", secType = \"FUT\", \n",
    "                                       exchange = \"GLOBEX\", currency = \"USD\", \n",
    "                                       right = None, strike = None,\n",
    "                                       expiry = \"201809\", multiplier=None,\n",
    "                                       tradingClass=None)\n",
    "order_info = create.create_order(accountName, \"MKT\", 11, \"BUY\")\n",
    "tws.placeOrder(order_id, contract_info, order_info)"
   ]
  },
  {
   "cell_type": "code",
   "execution_count": 48,
   "metadata": {
    "collapsed": true
   },
   "outputs": [],
   "source": [
    "tws.reqExecutions(3050, create.exec_filter(clientId, accountName, contract_info))"
   ]
  },
  {
   "cell_type": "code",
   "execution_count": 49,
   "metadata": {},
   "outputs": [
    {
     "data": {
      "text/plain": [
       "3050"
      ]
     },
     "execution_count": 49,
     "metadata": {},
     "output_type": "execute_result"
    }
   ],
   "source": [
    "callback.exec_Details_reqId"
   ]
  },
  {
   "cell_type": "code",
   "execution_count": 50,
   "metadata": {},
   "outputs": [
    {
     "data": {
      "text/plain": [
       "{'m_conId': 279396694,\n",
       " 'm_currency': 'USD',\n",
       " 'm_exchange': 'GLOBEX',\n",
       " 'm_expiry': '20180921',\n",
       " 'm_includeExpired': False,\n",
       " 'm_localSymbol': 'ESU8',\n",
       " 'm_multiplier': '50',\n",
       " 'm_right': None,\n",
       " 'm_secType': 'FUT',\n",
       " 'm_strike': 0.0,\n",
       " 'm_symbol': 'ES',\n",
       " 'm_tradingClass': 'ES'}"
      ]
     },
     "execution_count": 50,
     "metadata": {},
     "output_type": "execute_result"
    }
   ],
   "source": [
    "callback.exec_Details_contract.__dict__"
   ]
  },
  {
   "cell_type": "code",
   "execution_count": 51,
   "metadata": {},
   "outputs": [
    {
     "data": {
      "text/plain": [
       "{'m_acctNumber': 'DI246990',\n",
       " 'm_avgPrice': 2659.25,\n",
       " 'm_clientId': 6,\n",
       " 'm_cumQty': 11,\n",
       " 'm_evMultiplier': 0,\n",
       " 'm_evRule': None,\n",
       " 'm_exchange': 'GLOBEX',\n",
       " 'm_execId': '0001f4e5.5a811f33.01.01',\n",
       " 'm_liquidation': 0,\n",
       " 'm_orderId': 12,\n",
       " 'm_orderRef': None,\n",
       " 'm_permId': 656507451,\n",
       " 'm_price': 2659.25,\n",
       " 'm_shares': 9,\n",
       " 'm_side': 'BOT',\n",
       " 'm_time': '20180212  21:53:05'}"
      ]
     },
     "execution_count": 51,
     "metadata": {},
     "output_type": "execute_result"
    }
   ],
   "source": [
    "callback.exec_Details_execution.__dict__"
   ]
  },
  {
   "cell_type": "code",
   "execution_count": 52,
   "metadata": {},
   "outputs": [
    {
     "data": {
      "text/html": [
       "<div>\n",
       "<style>\n",
       "    .dataframe thead tr:only-child th {\n",
       "        text-align: right;\n",
       "    }\n",
       "\n",
       "    .dataframe thead th {\n",
       "        text-align: left;\n",
       "    }\n",
       "\n",
       "    .dataframe tbody tr th {\n",
       "        vertical-align: top;\n",
       "    }\n",
       "</style>\n",
       "<table border=\"1\" class=\"dataframe\">\n",
       "  <thead>\n",
       "    <tr style=\"text-align: right;\">\n",
       "      <th></th>\n",
       "      <th>m_commission</th>\n",
       "      <th>m_currency</th>\n",
       "      <th>m_execId</th>\n",
       "      <th>m_realizedPNL</th>\n",
       "      <th>m_yield</th>\n",
       "      <th>m_yieldRedemptionDate</th>\n",
       "    </tr>\n",
       "  </thead>\n",
       "  <tbody>\n",
       "    <tr>\n",
       "      <th>0</th>\n",
       "      <td>18.45</td>\n",
       "      <td>USD</td>\n",
       "      <td>0001f4e5.5a811f33.01.01</td>\n",
       "      <td>1.797693e+308</td>\n",
       "      <td>1.797693e+308</td>\n",
       "      <td>0</td>\n",
       "    </tr>\n",
       "  </tbody>\n",
       "</table>\n",
       "</div>"
      ],
      "text/plain": [
       "   m_commission m_currency                 m_execId  m_realizedPNL  \\\n",
       "0         18.45        USD  0001f4e5.5a811f33.01.01  1.797693e+308   \n",
       "\n",
       "         m_yield  m_yieldRedemptionDate  \n",
       "0  1.797693e+308                      0  "
      ]
     },
     "execution_count": 52,
     "metadata": {},
     "output_type": "execute_result"
    }
   ],
   "source": [
    "pd.DataFrame(callback.commission_Report.__dict__, index=[0])"
   ]
  },
  {
   "cell_type": "code",
   "execution_count": 53,
   "metadata": {
    "collapsed": true
   },
   "outputs": [],
   "source": [
    "tws.eDisconnect()"
   ]
  },
  {
   "cell_type": "markdown",
   "metadata": {},
   "source": [
    "***"
   ]
  }
 ],
 "metadata": {
  "kernelspec": {
   "display_name": "Python 3",
   "language": "python",
   "name": "python3"
  },
  "language_info": {
   "codemirror_mode": {
    "name": "ipython",
    "version": 3
   },
   "file_extension": ".py",
   "mimetype": "text/x-python",
   "name": "python",
   "nbconvert_exporter": "python",
   "pygments_lexer": "ipython3",
   "version": "3.6.3"
  }
 },
 "nbformat": 4,
 "nbformat_minor": 1
}
